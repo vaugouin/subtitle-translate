{
 "cells": [
  {
   "cell_type": "code",
   "execution_count": 2,
   "metadata": {},
   "outputs": [],
   "source": [
    "from langchain_openai import ChatOpenAI\n",
    "from langchain.text_splitter import CharacterTextSplitter\n",
    "from langchain_core.prompts import PromptTemplate\n",
    "from langchain_core.output_parsers import StrOutputParser\n",
    "import getpass\n",
    "import time"
   ]
  },
  {
   "cell_type": "code",
   "execution_count": 10,
   "metadata": {},
   "outputs": [],
   "source": [
    "strsrtfilename = \"Mass 2021 1080p.sample.srt\"\n",
    "output_filename = \"Mass 2021 1080p.sample French.srt\"\n",
    "#strsrtfilename = \"Mass 2021 1080p.srt\"\n",
    "target_language = \"French\"\n",
    "#output_filename = \"Mass 2021 1080p.French.srt\""
   ]
  },
  {
   "cell_type": "code",
   "execution_count": 4,
   "metadata": {},
   "outputs": [],
   "source": [
    "OPENAI_API_KEY = getpass.getpass('Enter your OPENAI_API_KEY')"
   ]
  },
  {
   "cell_type": "code",
   "execution_count": 5,
   "metadata": {},
   "outputs": [],
   "source": [
    "llm = ChatOpenAI(openai_api_key=OPENAI_API_KEY, model_name=\"gpt-4o-mini\")"
   ]
  },
  {
   "cell_type": "code",
   "execution_count": 6,
   "metadata": {},
   "outputs": [],
   "source": [
    "with open(strsrtfilename, 'r', encoding='utf-8') as file:\n",
    "    srt_text = file.read()"
   ]
  },
  {
   "cell_type": "code",
   "execution_count": 7,
   "metadata": {},
   "outputs": [],
   "source": [
    "text_splitter = CharacterTextSplitter(separator=\"\\n\\n\", chunk_size=1000, chunk_overlap=0)\n",
    "chunks = text_splitter.split_text(srt_text)"
   ]
  },
  {
   "cell_type": "code",
   "execution_count": 8,
   "metadata": {},
   "outputs": [
    {
     "data": {
      "text/plain": [
       "1"
      ]
     },
     "execution_count": 8,
     "metadata": {},
     "output_type": "execute_result"
    }
   ],
   "source": [
    "len(chunks)"
   ]
  },
  {
   "cell_type": "code",
   "execution_count": 11,
   "metadata": {},
   "outputs": [],
   "source": [
    "translate_chunk_prompt_template = \"\"\"You are an experienced translator to {target_language}. \n",
    "Translate the following subtitle text to {target_language} and leave the first two lines (subtitle numbers and timestamps) unchanged.\n",
    "Do not add any comment to the answer, only the translated text. \n",
    "Also remove the original text in the result. \n",
    "Text: {chunk}\"\"\"\n",
    "translate_chunk_prompt = PromptTemplate.from_template(translate_chunk_prompt_template)\n",
    "translate_chunk_chain = translate_chunk_prompt | llm | StrOutputParser()"
   ]
  },
  {
   "cell_type": "code",
   "execution_count": 12,
   "metadata": {},
   "outputs": [],
   "source": [
    "# Process chunks with a delay to respect rate limits\n",
    "translations = []\n",
    "batch_size = 50  # adjust batch_size if still facing rate issues"
   ]
  },
  {
   "cell_type": "code",
   "execution_count": 14,
   "metadata": {},
   "outputs": [
    {
     "name": "stdout",
     "output_type": "stream",
     "text": [
      "Processed chunks 1 to 1\n"
     ]
    }
   ],
   "source": [
    "for i in range(0, len(chunks), batch_size):\n",
    "    batch_chunks = chunks[i:i+batch_size]\n",
    "    batch_translations = translate_chunk_chain.batch([{'chunk': c, 'target_language': target_language} for c in batch_chunks])\n",
    "    translations.extend(batch_translations)\n",
    "    print(f\"Processed chunks {i+1} to {i+len(batch_chunks)}\")\n",
    "    time.sleep(60)  # Wait for 60 seconds between batches (adjust if necessary)"
   ]
  },
  {
   "cell_type": "code",
   "execution_count": 15,
   "metadata": {},
   "outputs": [],
   "source": [
    "# Join translations\n",
    "translation = '\\n\\n'.join(translations)"
   ]
  },
  {
   "cell_type": "code",
   "execution_count": 16,
   "metadata": {},
   "outputs": [],
   "source": [
    "translation += '\\n\\n'"
   ]
  },
  {
   "cell_type": "code",
   "execution_count": 17,
   "metadata": {},
   "outputs": [
    {
     "name": "stdout",
     "output_type": "stream",
     "text": [
      "Translation to French saved to Mass 2021 1080p.sample French.srt\n"
     ]
    }
   ],
   "source": [
    "# Save translation to file\n",
    "with open(output_filename, 'w', encoding='utf-8') as f:\n",
    "    f.write(translation)\n",
    "\n",
    "print(f\"Translation to {target_language} saved to {output_filename}\")"
   ]
  }
 ],
 "metadata": {
  "kernelspec": {
   "display_name": "Python 3",
   "language": "python",
   "name": "python3"
  },
  "language_info": {
   "codemirror_mode": {
    "name": "ipython",
    "version": 3
   },
   "file_extension": ".py",
   "mimetype": "text/x-python",
   "name": "python",
   "nbconvert_exporter": "python",
   "pygments_lexer": "ipython3",
   "version": "3.12.3"
  }
 },
 "nbformat": 4,
 "nbformat_minor": 2
}
